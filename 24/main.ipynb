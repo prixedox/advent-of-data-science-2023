{
 "cells": [
  {
   "cell_type": "markdown",
   "metadata": {},
   "source": [
    "### cutting edge"
   ]
  },
  {
   "cell_type": "markdown",
   "metadata": {},
   "source": [
    "couldnt find any simple task for cutting edge techniques, so lets try computer vision"
   ]
  },
  {
   "cell_type": "code",
   "execution_count": 94,
   "metadata": {},
   "outputs": [],
   "source": [
    "import pandas as pd\n",
    "import os\n",
    "import numpy as np\n",
    "from PIL import Image"
   ]
  },
  {
   "cell_type": "code",
   "execution_count": 95,
   "metadata": {},
   "outputs": [
    {
     "data": {
      "text/html": [
       "<div>\n",
       "<style scoped>\n",
       "    .dataframe tbody tr th:only-of-type {\n",
       "        vertical-align: middle;\n",
       "    }\n",
       "\n",
       "    .dataframe tbody tr th {\n",
       "        vertical-align: top;\n",
       "    }\n",
       "\n",
       "    .dataframe thead th {\n",
       "        text-align: right;\n",
       "    }\n",
       "</style>\n",
       "<table border=\"1\" class=\"dataframe\">\n",
       "  <thead>\n",
       "    <tr style=\"text-align: right;\">\n",
       "      <th></th>\n",
       "      <th>path</th>\n",
       "      <th>data_type</th>\n",
       "      <th>class</th>\n",
       "    </tr>\n",
       "  </thead>\n",
       "  <tbody>\n",
       "    <tr>\n",
       "      <th>0</th>\n",
       "      <td>dataset\\train\\daisy\\100080576_f52e8ee070_n_jpg...</td>\n",
       "      <td>train</td>\n",
       "      <td>daisy</td>\n",
       "    </tr>\n",
       "    <tr>\n",
       "      <th>1</th>\n",
       "      <td>dataset\\train\\daisy\\10172379554_b296050f82_n_j...</td>\n",
       "      <td>train</td>\n",
       "      <td>daisy</td>\n",
       "    </tr>\n",
       "    <tr>\n",
       "      <th>2</th>\n",
       "      <td>dataset\\train\\daisy\\10172567486_2748826a8b_jpg...</td>\n",
       "      <td>train</td>\n",
       "      <td>daisy</td>\n",
       "    </tr>\n",
       "    <tr>\n",
       "      <th>3</th>\n",
       "      <td>dataset\\train\\daisy\\10172636503_21bededa75_n_j...</td>\n",
       "      <td>train</td>\n",
       "      <td>daisy</td>\n",
       "    </tr>\n",
       "    <tr>\n",
       "      <th>4</th>\n",
       "      <td>dataset\\train\\daisy\\102841525_bd6628ae3c_jpg.r...</td>\n",
       "      <td>train</td>\n",
       "      <td>daisy</td>\n",
       "    </tr>\n",
       "  </tbody>\n",
       "</table>\n",
       "</div>"
      ],
      "text/plain": [
       "                                                path data_type  class\n",
       "0  dataset\\train\\daisy\\100080576_f52e8ee070_n_jpg...     train  daisy\n",
       "1  dataset\\train\\daisy\\10172379554_b296050f82_n_j...     train  daisy\n",
       "2  dataset\\train\\daisy\\10172567486_2748826a8b_jpg...     train  daisy\n",
       "3  dataset\\train\\daisy\\10172636503_21bededa75_n_j...     train  daisy\n",
       "4  dataset\\train\\daisy\\102841525_bd6628ae3c_jpg.r...     train  daisy"
      ]
     },
     "execution_count": 95,
     "metadata": {},
     "output_type": "execute_result"
    }
   ],
   "source": [
    "base_dir = \"dataset\"\n",
    "\n",
    "paths = []\n",
    "data_types = []\n",
    "classes = []\n",
    "\n",
    "for data_type in [\"train\", \"test\", \"valid\"]:\n",
    "    data_type_path = os.path.join(base_dir, data_type)\n",
    "\n",
    "    for class_name in [\"daisy\", \"dandelion\"]:\n",
    "        class_path = os.path.join(data_type_path, class_name)\n",
    "\n",
    "        image_files = [os.path.join(class_path, file) for file in os.listdir(class_path) if file.endswith(\".jpg\")]\n",
    "\n",
    "        paths.extend(image_files)\n",
    "        data_types.extend([data_type] * len(image_files))\n",
    "        classes.extend([class_name] * len(image_files))\n",
    "\n",
    "df = pd.DataFrame({\"path\": paths, \"data_type\": data_types, \"class\": classes})\n",
    "\n",
    "df.head()"
   ]
  },
  {
   "cell_type": "code",
   "execution_count": 96,
   "metadata": {},
   "outputs": [
    {
     "data": {
      "text/html": [
       "<div>\n",
       "<style scoped>\n",
       "    .dataframe tbody tr th:only-of-type {\n",
       "        vertical-align: middle;\n",
       "    }\n",
       "\n",
       "    .dataframe tbody tr th {\n",
       "        vertical-align: top;\n",
       "    }\n",
       "\n",
       "    .dataframe thead th {\n",
       "        text-align: right;\n",
       "    }\n",
       "</style>\n",
       "<table border=\"1\" class=\"dataframe\">\n",
       "  <thead>\n",
       "    <tr style=\"text-align: right;\">\n",
       "      <th></th>\n",
       "      <th>path</th>\n",
       "      <th>data_type</th>\n",
       "      <th>class</th>\n",
       "    </tr>\n",
       "  </thead>\n",
       "  <tbody>\n",
       "    <tr>\n",
       "      <th>count</th>\n",
       "      <td>1821</td>\n",
       "      <td>1821</td>\n",
       "      <td>1821</td>\n",
       "    </tr>\n",
       "    <tr>\n",
       "      <th>unique</th>\n",
       "      <td>1821</td>\n",
       "      <td>3</td>\n",
       "      <td>2</td>\n",
       "    </tr>\n",
       "    <tr>\n",
       "      <th>top</th>\n",
       "      <td>dataset\\train\\daisy\\100080576_f52e8ee070_n_jpg...</td>\n",
       "      <td>train</td>\n",
       "      <td>dandelion</td>\n",
       "    </tr>\n",
       "    <tr>\n",
       "      <th>freq</th>\n",
       "      <td>1</td>\n",
       "      <td>1275</td>\n",
       "      <td>1052</td>\n",
       "    </tr>\n",
       "  </tbody>\n",
       "</table>\n",
       "</div>"
      ],
      "text/plain": [
       "                                                     path data_type      class\n",
       "count                                                1821      1821       1821\n",
       "unique                                               1821         3          2\n",
       "top     dataset\\train\\daisy\\100080576_f52e8ee070_n_jpg...     train  dandelion\n",
       "freq                                                    1      1275       1052"
      ]
     },
     "execution_count": 96,
     "metadata": {},
     "output_type": "execute_result"
    }
   ],
   "source": [
    "df.describe()"
   ]
  },
  {
   "cell_type": "code",
   "execution_count": 97,
   "metadata": {},
   "outputs": [
    {
     "data": {
      "text/plain": [
       "(1821, 3)"
      ]
     },
     "execution_count": 97,
     "metadata": {},
     "output_type": "execute_result"
    }
   ],
   "source": [
    "df.shape"
   ]
  },
  {
   "cell_type": "code",
   "execution_count": 98,
   "metadata": {},
   "outputs": [],
   "source": [
    "target_image_size = (32, 32)"
   ]
  },
  {
   "cell_type": "code",
   "execution_count": 99,
   "metadata": {},
   "outputs": [],
   "source": [
    "def load_and_preprocess_image(file_path):\n",
    "    image = Image.open(file_path)\n",
    "    # Convert the image to a numpy array\n",
    "    image = image.resize(target_image_size)\n",
    "\n",
    "    image_array = np.array(image)\n",
    "    return image_array"
   ]
  },
  {
   "cell_type": "code",
   "execution_count": 100,
   "metadata": {},
   "outputs": [],
   "source": [
    "X = np.zeros((df.shape[0],target_image_size[0],target_image_size[1], 3), dtype=np.float16)\n",
    "y = np.zeros((df.shape[0]), dtype=np.float16)\n",
    "for i, row in df.iterrows():\n",
    "    X[i] = load_and_preprocess_image(row[\"path\"])\n",
    "    if row[\"class\"] == \"dandelion\":\n",
    "        y[i] = 1\n",
    "X /= 255"
   ]
  },
  {
   "cell_type": "code",
   "execution_count": 101,
   "metadata": {},
   "outputs": [
    {
     "data": {
      "text/plain": [
       "((1821, 32, 32, 3), (1821,))"
      ]
     },
     "execution_count": 101,
     "metadata": {},
     "output_type": "execute_result"
    }
   ],
   "source": [
    "X.shape, y.shape"
   ]
  },
  {
   "cell_type": "code",
   "execution_count": 102,
   "metadata": {},
   "outputs": [],
   "source": [
    "from sklearn.model_selection import train_test_split"
   ]
  },
  {
   "cell_type": "code",
   "execution_count": 103,
   "metadata": {},
   "outputs": [],
   "source": [
    "X_train, X_test, y_train, y_test = train_test_split(X, y, test_size=0.1, random_state=42)\n",
    "X_train, X_valid, y_train, y_valid = train_test_split(X_train, y_train, test_size=0.1, random_state=42)"
   ]
  },
  {
   "cell_type": "code",
   "execution_count": 104,
   "metadata": {},
   "outputs": [],
   "source": [
    "from keras.models import Sequential\n",
    "from keras.layers import Conv2D, MaxPooling2D, Flatten, Dense"
   ]
  },
  {
   "cell_type": "code",
   "execution_count": 105,
   "metadata": {},
   "outputs": [],
   "source": [
    "model = Sequential()\n",
    "model.add(Conv2D(32, (3, 3), activation='relu', input_shape=(target_image_size[0], target_image_size[1], 3)))\n",
    "model.add(MaxPooling2D((2, 2)))\n",
    "model.add(Conv2D(64, (3, 3), activation='relu'))\n",
    "model.add(MaxPooling2D((2, 2)))\n",
    "model.add(Conv2D(128, (3, 3), activation='relu'))\n",
    "model.add(MaxPooling2D((2, 2)))\n",
    "model.add(Flatten())\n",
    "model.add(Dense(128, activation='relu'))\n",
    "model.add(Dense(1, activation='sigmoid'))  # Assuming 2 classes (daisy and dandelion)"
   ]
  },
  {
   "cell_type": "code",
   "execution_count": 106,
   "metadata": {},
   "outputs": [],
   "source": [
    "model.compile(optimizer='adam', loss='binary_crossentropy', metrics=['accuracy'])"
   ]
  },
  {
   "cell_type": "code",
   "execution_count": 107,
   "metadata": {},
   "outputs": [
    {
     "name": "stdout",
     "output_type": "stream",
     "text": [
      "Epoch 1/30\n"
     ]
    },
    {
     "name": "stdout",
     "output_type": "stream",
     "text": [
      "47/47 [==============================] - 1s 11ms/step - loss: 0.6371 - accuracy: 0.6275 - val_loss: 0.9433 - val_accuracy: 0.5671\n",
      "Epoch 2/30\n",
      "47/47 [==============================] - 0s 8ms/step - loss: 0.6314 - accuracy: 0.6845 - val_loss: 0.5188 - val_accuracy: 0.7561\n",
      "Epoch 3/30\n",
      "47/47 [==============================] - 0s 8ms/step - loss: 0.4836 - accuracy: 0.7687 - val_loss: 0.5239 - val_accuracy: 0.7317\n",
      "Epoch 4/30\n",
      "47/47 [==============================] - 0s 8ms/step - loss: 0.4305 - accuracy: 0.8046 - val_loss: 0.4342 - val_accuracy: 0.8232\n",
      "Epoch 5/30\n",
      "47/47 [==============================] - 0s 8ms/step - loss: 0.3935 - accuracy: 0.8216 - val_loss: 0.4527 - val_accuracy: 0.7988\n",
      "Epoch 6/30\n",
      "47/47 [==============================] - 0s 8ms/step - loss: 0.3753 - accuracy: 0.8358 - val_loss: 0.4873 - val_accuracy: 0.7866\n",
      "Epoch 7/30\n",
      "47/47 [==============================] - 0s 8ms/step - loss: 0.3573 - accuracy: 0.8446 - val_loss: 0.4880 - val_accuracy: 0.7805\n",
      "Epoch 8/30\n",
      "47/47 [==============================] - 0s 8ms/step - loss: 0.3645 - accuracy: 0.8290 - val_loss: 0.4796 - val_accuracy: 0.7805\n",
      "Epoch 9/30\n",
      "47/47 [==============================] - 0s 8ms/step - loss: 0.3489 - accuracy: 0.8474 - val_loss: 0.4077 - val_accuracy: 0.8110\n",
      "Epoch 10/30\n",
      "47/47 [==============================] - 0s 8ms/step - loss: 0.3011 - accuracy: 0.8779 - val_loss: 0.5514 - val_accuracy: 0.7927\n",
      "Epoch 11/30\n",
      "47/47 [==============================] - 0s 9ms/step - loss: 0.2867 - accuracy: 0.8847 - val_loss: 0.4994 - val_accuracy: 0.7866\n",
      "Epoch 12/30\n",
      "47/47 [==============================] - 0s 8ms/step - loss: 0.2822 - accuracy: 0.8887 - val_loss: 0.4509 - val_accuracy: 0.8049\n",
      "Epoch 13/30\n",
      "47/47 [==============================] - 0s 9ms/step - loss: 0.2187 - accuracy: 0.9104 - val_loss: 0.4627 - val_accuracy: 0.7988\n",
      "Epoch 14/30\n",
      "47/47 [==============================] - 0s 8ms/step - loss: 0.1765 - accuracy: 0.9301 - val_loss: 0.5013 - val_accuracy: 0.7927\n",
      "Epoch 15/30\n",
      "47/47 [==============================] - 0s 8ms/step - loss: 0.1475 - accuracy: 0.9464 - val_loss: 0.5242 - val_accuracy: 0.8049\n",
      "Epoch 16/30\n",
      "47/47 [==============================] - 0s 8ms/step - loss: 0.1119 - accuracy: 0.9647 - val_loss: 0.5748 - val_accuracy: 0.8293\n",
      "Epoch 17/30\n",
      "47/47 [==============================] - 0s 8ms/step - loss: 0.0958 - accuracy: 0.9661 - val_loss: 0.5836 - val_accuracy: 0.8110\n",
      "Epoch 18/30\n",
      "47/47 [==============================] - 0s 8ms/step - loss: 0.0795 - accuracy: 0.9749 - val_loss: 0.6280 - val_accuracy: 0.8049\n",
      "Epoch 19/30\n",
      "47/47 [==============================] - 0s 8ms/step - loss: 0.0947 - accuracy: 0.9688 - val_loss: 0.6179 - val_accuracy: 0.8293\n",
      "Epoch 20/30\n",
      "47/47 [==============================] - 0s 8ms/step - loss: 0.0462 - accuracy: 0.9878 - val_loss: 0.7167 - val_accuracy: 0.8110\n",
      "Epoch 21/30\n",
      "47/47 [==============================] - 0s 8ms/step - loss: 0.0301 - accuracy: 0.9932 - val_loss: 0.7036 - val_accuracy: 0.7988\n",
      "Epoch 22/30\n",
      "47/47 [==============================] - 0s 11ms/step - loss: 0.0172 - accuracy: 0.9966 - val_loss: 0.7470 - val_accuracy: 0.7988\n",
      "Epoch 23/30\n",
      "47/47 [==============================] - 0s 8ms/step - loss: 0.0127 - accuracy: 0.9986 - val_loss: 0.8474 - val_accuracy: 0.7805\n",
      "Epoch 24/30\n",
      "47/47 [==============================] - 0s 8ms/step - loss: 0.0077 - accuracy: 0.9986 - val_loss: 0.7875 - val_accuracy: 0.7988\n",
      "Epoch 25/30\n",
      "47/47 [==============================] - 0s 9ms/step - loss: 0.0057 - accuracy: 0.9986 - val_loss: 0.8202 - val_accuracy: 0.8110\n",
      "Epoch 26/30\n",
      "47/47 [==============================] - 0s 8ms/step - loss: 0.0042 - accuracy: 1.0000 - val_loss: 0.9012 - val_accuracy: 0.8049\n",
      "Epoch 27/30\n",
      "47/47 [==============================] - 0s 8ms/step - loss: 0.0028 - accuracy: 1.0000 - val_loss: 0.9390 - val_accuracy: 0.7927\n",
      "Epoch 28/30\n",
      "47/47 [==============================] - 0s 8ms/step - loss: 0.0034 - accuracy: 1.0000 - val_loss: 0.9385 - val_accuracy: 0.7988\n",
      "Epoch 29/30\n",
      "47/47 [==============================] - 0s 8ms/step - loss: 0.0021 - accuracy: 1.0000 - val_loss: 1.0041 - val_accuracy: 0.7927\n",
      "Epoch 30/30\n",
      "47/47 [==============================] - 0s 8ms/step - loss: 0.0015 - accuracy: 1.0000 - val_loss: 1.0072 - val_accuracy: 0.7988\n"
     ]
    }
   ],
   "source": [
    "history = model.fit(X_train, y_train, epochs=30, batch_size=32, validation_data=[X_valid, y_valid])"
   ]
  },
  {
   "cell_type": "code",
   "execution_count": 108,
   "metadata": {},
   "outputs": [],
   "source": [
    "import matplotlib.pyplot as plt"
   ]
  },
  {
   "cell_type": "code",
   "execution_count": 109,
   "metadata": {},
   "outputs": [
    {
     "data": {
      "image/png": "[encoded data removed]",
      "text/plain": [
       "<Figure size 640x480 with 1 Axes>"
      ]
     },
     "metadata": {},
     "output_type": "display_data"
    }
   ],
   "source": [
    "plt.plot(history.history['accuracy'], label='Train Accuracy')\n",
    "plt.plot(history.history['val_accuracy'], label='Validation Accuracy')\n",
    "plt.title('Training and Validation Accuracy')\n",
    "plt.xlabel('Epoch')\n",
    "plt.ylabel('Accuracy')\n",
    "plt.legend()\n",
    "plt.show()"
   ]
  },
  {
   "cell_type": "code",
   "execution_count": 110,
   "metadata": {},
   "outputs": [
    {
     "name": "stderr",
     "output_type": "stream",
     "text": [
      "c:\\Users\\prixe\\Documents\\dev\\advent-of-data-science-2023\\.venv\\Lib\\site-packages\\keras\\src\\engine\\training.py:3103: UserWarning: You are saving your model as an HDF5 file via `model.save()`. This file format is considered legacy. We recommend using instead the native Keras format, e.g. `model.save('my_model.keras')`.\n",
      "  saving_api.save_model(\n"
     ]
    }
   ],
   "source": [
    "# Save the model\n",
    "model.save('my_cnn_model.h5')"
   ]
  },
  {
   "cell_type": "code",
   "execution_count": 112,
   "metadata": {},
   "outputs": [
    {
     "name": "stdout",
     "output_type": "stream",
     "text": [
      "6/6 [==============================] - 0s 3ms/step - loss: 0.8787 - accuracy: 0.8033\n",
      "Test Loss: 0.8787\n",
      "Test Accuracy: 80.33%\n"
     ]
    }
   ],
   "source": [
    "loss, accuracy = model.evaluate(X_test, y_test)\n",
    "print(f'Test Loss: {loss:.4f}')\n",
    "print(f'Test Accuracy: {accuracy * 100:.2f}%')"
   ]
  },
  {
   "cell_type": "markdown",
   "metadata": {},
   "source": [
    "### Summary"
   ]
  },
  {
   "cell_type": "markdown",
   "metadata": {},
   "source": [
    "the model was able to get to 80% accuracy on test data, which is not bad considering the input size is only 32x32 and the neural network is not that complex"
   ]
  }
 ],
 "metadata": {
  "kernelspec": {
   "display_name": ".venv",
   "language": "python",
   "name": "python3"
  },
  "language_info": {
   "codemirror_mode": {
    "name": "ipython",
    "version": 3
   },
   "file_extension": ".py",
   "mimetype": "text/x-python",
   "name": "python",
   "nbconvert_exporter": "python",
   "pygments_lexer": "ipython3",
   "version": "3.11.6"
  }
 },
 "nbformat": 4,
 "nbformat_minor": 2
}
